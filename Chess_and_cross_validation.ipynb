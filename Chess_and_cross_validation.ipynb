{
  "nbformat": 4,
  "nbformat_minor": 0,
  "metadata": {
    "colab": {
      "name": "Chess and cross validation",
      "provenance": [],
      "authorship_tag": "ABX9TyNk6wWAPTQOC/UbQ5KTseF4",
      "include_colab_link": true
    },
    "kernelspec": {
      "name": "python3",
      "display_name": "Python 3"
    },
    "language_info": {
      "name": "python"
    }
  },
  "cells": [
    {
      "cell_type": "markdown",
      "metadata": {
        "id": "view-in-github",
        "colab_type": "text"
      },
      "source": [
        "<a href=\"https://colab.research.google.com/github/Kheri-C/ML/blob/main/Chess_and_cross_validation.ipynb\" target=\"_parent\"><img src=\"https://colab.research.google.com/assets/colab-badge.svg\" alt=\"Open In Colab\"/></a>"
      ]
    },
    {
      "cell_type": "markdown",
      "metadata": {
        "id": "HnpSmmWuS8dD"
      },
      "source": [
        "Aprendizaje automático\n",
        "\n",
        "Equipo 3\n",
        "\n",
        "Kheri Saúl Chavira Leal\n",
        "\n",
        "Luis Arturo Dan Fong\n",
        "\n",
        "Miguel Angel Espinosa Varela\n",
        "\n",
        "Jorge Ramírez Sánchez\n",
        "\n",
        "Christian Rodrigo Velasco Bautista\n"
      ]
    },
    {
      "cell_type": "code",
      "metadata": {
        "id": "kenhlinlrong"
      },
      "source": [
        "import pandas as pd\n",
        "import numpy as np\n",
        "from sklearn.model_selection import train_test_split"
      ],
      "execution_count": null,
      "outputs": []
    },
    {
      "cell_type": "code",
      "metadata": {
        "colab": {
          "base_uri": "https://localhost:8080/",
          "height": 204
        },
        "id": "U75pFIhu1Ihg",
        "outputId": "d9a5c4e7-78ec-4685-d49f-a17bed8a2410"
      },
      "source": [
        "path = 'https://raw.githubusercontent.com/Kheri-C/ML/main/chess_games.csv'\n",
        "df = pd.read_csv(path)\n",
        "df = df.drop([\"game_id\",\"white_id\",\"moves\",\"black_id\",\"opening_code\",\"opening_fullname\",\"opening_shortname\",\"opening_response\",\"opening_variation\",\"time_increment\"],axis=\"columns\")\n",
        "df.head()"
      ],
      "execution_count": null,
      "outputs": [
        {
          "output_type": "execute_result",
          "data": {
            "text/html": [
              "<div>\n",
              "<style scoped>\n",
              "    .dataframe tbody tr th:only-of-type {\n",
              "        vertical-align: middle;\n",
              "    }\n",
              "\n",
              "    .dataframe tbody tr th {\n",
              "        vertical-align: top;\n",
              "    }\n",
              "\n",
              "    .dataframe thead th {\n",
              "        text-align: right;\n",
              "    }\n",
              "</style>\n",
              "<table border=\"1\" class=\"dataframe\">\n",
              "  <thead>\n",
              "    <tr style=\"text-align: right;\">\n",
              "      <th></th>\n",
              "      <th>rated</th>\n",
              "      <th>turns</th>\n",
              "      <th>victory_status</th>\n",
              "      <th>winner</th>\n",
              "      <th>white_rating</th>\n",
              "      <th>black_rating</th>\n",
              "      <th>opening_moves</th>\n",
              "    </tr>\n",
              "  </thead>\n",
              "  <tbody>\n",
              "    <tr>\n",
              "      <th>0</th>\n",
              "      <td>False</td>\n",
              "      <td>13</td>\n",
              "      <td>Out of Time</td>\n",
              "      <td>White</td>\n",
              "      <td>1500</td>\n",
              "      <td>1191</td>\n",
              "      <td>5</td>\n",
              "    </tr>\n",
              "    <tr>\n",
              "      <th>1</th>\n",
              "      <td>True</td>\n",
              "      <td>16</td>\n",
              "      <td>Resign</td>\n",
              "      <td>Black</td>\n",
              "      <td>1322</td>\n",
              "      <td>1261</td>\n",
              "      <td>4</td>\n",
              "    </tr>\n",
              "    <tr>\n",
              "      <th>2</th>\n",
              "      <td>True</td>\n",
              "      <td>61</td>\n",
              "      <td>Mate</td>\n",
              "      <td>White</td>\n",
              "      <td>1496</td>\n",
              "      <td>1500</td>\n",
              "      <td>3</td>\n",
              "    </tr>\n",
              "    <tr>\n",
              "      <th>3</th>\n",
              "      <td>True</td>\n",
              "      <td>61</td>\n",
              "      <td>Mate</td>\n",
              "      <td>White</td>\n",
              "      <td>1439</td>\n",
              "      <td>1454</td>\n",
              "      <td>3</td>\n",
              "    </tr>\n",
              "    <tr>\n",
              "      <th>4</th>\n",
              "      <td>True</td>\n",
              "      <td>95</td>\n",
              "      <td>Mate</td>\n",
              "      <td>White</td>\n",
              "      <td>1523</td>\n",
              "      <td>1469</td>\n",
              "      <td>5</td>\n",
              "    </tr>\n",
              "  </tbody>\n",
              "</table>\n",
              "</div>"
            ],
            "text/plain": [
              "   rated  turns victory_status  ... white_rating  black_rating  opening_moves\n",
              "0  False     13    Out of Time  ...         1500          1191              5\n",
              "1   True     16         Resign  ...         1322          1261              4\n",
              "2   True     61           Mate  ...         1496          1500              3\n",
              "3   True     61           Mate  ...         1439          1454              3\n",
              "4   True     95           Mate  ...         1523          1469              5\n",
              "\n",
              "[5 rows x 7 columns]"
            ]
          },
          "metadata": {},
          "execution_count": 22
        }
      ]
    },
    {
      "cell_type": "code",
      "metadata": {
        "colab": {
          "base_uri": "https://localhost:8080/",
          "height": 419
        },
        "id": "-NB2F8__rzx7",
        "outputId": "7510ff8e-da9a-4662-c277-c9d5e005fb06"
      },
      "source": [
        "df = df.replace(False,0) # Convertimos el flotante a número\n",
        "# Conseguimos los dummies de victory_status\n",
        "df = df.merge(pd.get_dummies(df[\"victory_status\"]),left_index=True,right_index=True)\n",
        "df = df.drop(\"victory_status\",axis=\"columns\")\n",
        "df.head()\n",
        "df"
      ],
      "execution_count": null,
      "outputs": [
        {
          "output_type": "execute_result",
          "data": {
            "text/html": [
              "<div>\n",
              "<style scoped>\n",
              "    .dataframe tbody tr th:only-of-type {\n",
              "        vertical-align: middle;\n",
              "    }\n",
              "\n",
              "    .dataframe tbody tr th {\n",
              "        vertical-align: top;\n",
              "    }\n",
              "\n",
              "    .dataframe thead th {\n",
              "        text-align: right;\n",
              "    }\n",
              "</style>\n",
              "<table border=\"1\" class=\"dataframe\">\n",
              "  <thead>\n",
              "    <tr style=\"text-align: right;\">\n",
              "      <th></th>\n",
              "      <th>rated</th>\n",
              "      <th>turns</th>\n",
              "      <th>winner</th>\n",
              "      <th>white_rating</th>\n",
              "      <th>black_rating</th>\n",
              "      <th>opening_moves</th>\n",
              "      <th>Draw</th>\n",
              "      <th>Mate</th>\n",
              "      <th>Out of Time</th>\n",
              "      <th>Resign</th>\n",
              "    </tr>\n",
              "  </thead>\n",
              "  <tbody>\n",
              "    <tr>\n",
              "      <th>0</th>\n",
              "      <td>0.0</td>\n",
              "      <td>13</td>\n",
              "      <td>White</td>\n",
              "      <td>1500</td>\n",
              "      <td>1191</td>\n",
              "      <td>5</td>\n",
              "      <td>0</td>\n",
              "      <td>0</td>\n",
              "      <td>1</td>\n",
              "      <td>0</td>\n",
              "    </tr>\n",
              "    <tr>\n",
              "      <th>1</th>\n",
              "      <td>1.0</td>\n",
              "      <td>16</td>\n",
              "      <td>Black</td>\n",
              "      <td>1322</td>\n",
              "      <td>1261</td>\n",
              "      <td>4</td>\n",
              "      <td>0</td>\n",
              "      <td>0</td>\n",
              "      <td>0</td>\n",
              "      <td>1</td>\n",
              "    </tr>\n",
              "    <tr>\n",
              "      <th>2</th>\n",
              "      <td>1.0</td>\n",
              "      <td>61</td>\n",
              "      <td>White</td>\n",
              "      <td>1496</td>\n",
              "      <td>1500</td>\n",
              "      <td>3</td>\n",
              "      <td>0</td>\n",
              "      <td>1</td>\n",
              "      <td>0</td>\n",
              "      <td>0</td>\n",
              "    </tr>\n",
              "    <tr>\n",
              "      <th>3</th>\n",
              "      <td>1.0</td>\n",
              "      <td>61</td>\n",
              "      <td>White</td>\n",
              "      <td>1439</td>\n",
              "      <td>1454</td>\n",
              "      <td>3</td>\n",
              "      <td>0</td>\n",
              "      <td>1</td>\n",
              "      <td>0</td>\n",
              "      <td>0</td>\n",
              "    </tr>\n",
              "    <tr>\n",
              "      <th>4</th>\n",
              "      <td>1.0</td>\n",
              "      <td>95</td>\n",
              "      <td>White</td>\n",
              "      <td>1523</td>\n",
              "      <td>1469</td>\n",
              "      <td>5</td>\n",
              "      <td>0</td>\n",
              "      <td>1</td>\n",
              "      <td>0</td>\n",
              "      <td>0</td>\n",
              "    </tr>\n",
              "    <tr>\n",
              "      <th>...</th>\n",
              "      <td>...</td>\n",
              "      <td>...</td>\n",
              "      <td>...</td>\n",
              "      <td>...</td>\n",
              "      <td>...</td>\n",
              "      <td>...</td>\n",
              "      <td>...</td>\n",
              "      <td>...</td>\n",
              "      <td>...</td>\n",
              "      <td>...</td>\n",
              "    </tr>\n",
              "    <tr>\n",
              "      <th>20053</th>\n",
              "      <td>1.0</td>\n",
              "      <td>24</td>\n",
              "      <td>White</td>\n",
              "      <td>1691</td>\n",
              "      <td>1220</td>\n",
              "      <td>2</td>\n",
              "      <td>0</td>\n",
              "      <td>0</td>\n",
              "      <td>0</td>\n",
              "      <td>1</td>\n",
              "    </tr>\n",
              "    <tr>\n",
              "      <th>20054</th>\n",
              "      <td>1.0</td>\n",
              "      <td>82</td>\n",
              "      <td>Black</td>\n",
              "      <td>1233</td>\n",
              "      <td>1196</td>\n",
              "      <td>2</td>\n",
              "      <td>0</td>\n",
              "      <td>1</td>\n",
              "      <td>0</td>\n",
              "      <td>0</td>\n",
              "    </tr>\n",
              "    <tr>\n",
              "      <th>20055</th>\n",
              "      <td>1.0</td>\n",
              "      <td>35</td>\n",
              "      <td>White</td>\n",
              "      <td>1219</td>\n",
              "      <td>1286</td>\n",
              "      <td>3</td>\n",
              "      <td>0</td>\n",
              "      <td>1</td>\n",
              "      <td>0</td>\n",
              "      <td>0</td>\n",
              "    </tr>\n",
              "    <tr>\n",
              "      <th>20056</th>\n",
              "      <td>1.0</td>\n",
              "      <td>109</td>\n",
              "      <td>White</td>\n",
              "      <td>1360</td>\n",
              "      <td>1227</td>\n",
              "      <td>4</td>\n",
              "      <td>0</td>\n",
              "      <td>0</td>\n",
              "      <td>0</td>\n",
              "      <td>1</td>\n",
              "    </tr>\n",
              "    <tr>\n",
              "      <th>20057</th>\n",
              "      <td>1.0</td>\n",
              "      <td>78</td>\n",
              "      <td>Black</td>\n",
              "      <td>1235</td>\n",
              "      <td>1339</td>\n",
              "      <td>3</td>\n",
              "      <td>0</td>\n",
              "      <td>1</td>\n",
              "      <td>0</td>\n",
              "      <td>0</td>\n",
              "    </tr>\n",
              "  </tbody>\n",
              "</table>\n",
              "<p>20058 rows × 10 columns</p>\n",
              "</div>"
            ],
            "text/plain": [
              "       rated  turns winner  white_rating  ...  Draw  Mate  Out of Time  Resign\n",
              "0        0.0     13  White          1500  ...     0     0            1       0\n",
              "1        1.0     16  Black          1322  ...     0     0            0       1\n",
              "2        1.0     61  White          1496  ...     0     1            0       0\n",
              "3        1.0     61  White          1439  ...     0     1            0       0\n",
              "4        1.0     95  White          1523  ...     0     1            0       0\n",
              "...      ...    ...    ...           ...  ...   ...   ...          ...     ...\n",
              "20053    1.0     24  White          1691  ...     0     0            0       1\n",
              "20054    1.0     82  Black          1233  ...     0     1            0       0\n",
              "20055    1.0     35  White          1219  ...     0     1            0       0\n",
              "20056    1.0    109  White          1360  ...     0     0            0       1\n",
              "20057    1.0     78  Black          1235  ...     0     1            0       0\n",
              "\n",
              "[20058 rows x 10 columns]"
            ]
          },
          "metadata": {},
          "execution_count": 23
        }
      ]
    },
    {
      "cell_type": "code",
      "metadata": {
        "id": "4wQkhO5quhMs"
      },
      "source": [
        "X = df.drop([\"winner\"],axis=\"columns\")\n",
        "y = df[\"winner\"]"
      ],
      "execution_count": null,
      "outputs": []
    },
    {
      "cell_type": "code",
      "metadata": {
        "id": "-px7p8nmvRgZ"
      },
      "source": [
        "X_train, X_test, y_train, y_test = train_test_split(X, y, test_size=0.2)"
      ],
      "execution_count": null,
      "outputs": []
    },
    {
      "cell_type": "code",
      "metadata": {
        "colab": {
          "base_uri": "https://localhost:8080/"
        },
        "id": "q-R2sXNRvX4T",
        "outputId": "2d7cb51f-aecd-4de3-e6dc-5ebf1f79f4d9"
      },
      "source": [
        "from sklearn.ensemble import RandomForestClassifier\n",
        "from sklearn.metrics import accuracy_score, classification_report, precision_score\n",
        "algoritmo = RandomForestClassifier()\n",
        "#Entreno el modelo\n",
        "algoritmo.fit(X_train, y_train)\n",
        "#Realizo una predicción\n",
        "y_pred = algoritmo.predict(X_test)\n",
        "#Calculo la precisión del modelo\n",
        "precision = precision_score(y_test, y_pred, average='micro')\n",
        "print('Precisión del modelo:')\n",
        "print(precision)"
      ],
      "execution_count": null,
      "outputs": [
        {
          "output_type": "stream",
          "name": "stdout",
          "text": [
            "Precisión del modelo:\n",
            "0.6969092721834497\n"
          ]
        }
      ]
    },
    {
      "cell_type": "markdown",
      "metadata": {
        "id": "tY1IXCCEmQ0o"
      },
      "source": [
        "**KFold**"
      ]
    },
    {
      "cell_type": "code",
      "metadata": {
        "colab": {
          "base_uri": "https://localhost:8080/"
        },
        "id": "4UfMRPVnCNNd",
        "outputId": "b3244501-59bc-436e-9f73-227d29b61283"
      },
      "source": [
        "from sklearn.model_selection import KFold\n",
        "dfs = []\n",
        "kf = KFold(n_splits=3, shuffle=True, random_state=123)\n",
        "i = 1\n",
        "\n",
        "for train_index, test_index in kf.split(df):\n",
        "    X_train = X.iloc[train_index]\n",
        "    X_test = X.iloc[test_index]\n",
        "    y_train = y.iloc[train_index]\n",
        "    y_test = y.loc[test_index]\n",
        "    \n",
        "    #Train the model\n",
        "    algoritmo.fit(X_train, y_train) #Training the model\n",
        "    y_pred = algoritmo.predict(X_test)\n",
        "    print(f\"Accuracy for the fold no. {i} on the test set: {accuracy_score(y_test, y_pred)}\")"
      ],
      "execution_count": null,
      "outputs": [
        {
          "output_type": "stream",
          "name": "stdout",
          "text": [
            "Accuracy for the fold no. 1 on the test set: 0.6889021836673647\n",
            "Accuracy for the fold no. 1 on the test set: 0.6881543523781035\n",
            "Accuracy for the fold no. 1 on the test set: 0.6921926413401137\n"
          ]
        }
      ]
    },
    {
      "cell_type": "code",
      "metadata": {
        "colab": {
          "base_uri": "https://localhost:8080/"
        },
        "id": "_GB2tgbAVASy",
        "outputId": "b0b19b36-cbb0-45a3-c48b-7282920e97f2"
      },
      "source": [
        "from pprint import pprint\n",
        "pprint(algoritmo.get_params())"
      ],
      "execution_count": null,
      "outputs": [
        {
          "output_type": "stream",
          "name": "stdout",
          "text": [
            "{'bootstrap': True,\n",
            " 'ccp_alpha': 0.0,\n",
            " 'class_weight': None,\n",
            " 'criterion': 'gini',\n",
            " 'max_depth': None,\n",
            " 'max_features': 'auto',\n",
            " 'max_leaf_nodes': None,\n",
            " 'max_samples': None,\n",
            " 'min_impurity_decrease': 0.0,\n",
            " 'min_impurity_split': None,\n",
            " 'min_samples_leaf': 1,\n",
            " 'min_samples_split': 2,\n",
            " 'min_weight_fraction_leaf': 0.0,\n",
            " 'n_estimators': 100,\n",
            " 'n_jobs': None,\n",
            " 'oob_score': False,\n",
            " 'random_state': None,\n",
            " 'verbose': 0,\n",
            " 'warm_start': False}\n"
          ]
        }
      ]
    },
    {
      "cell_type": "markdown",
      "metadata": {
        "id": "xtwj9QXCmG5g"
      },
      "source": [
        "**GRID SEARCH**"
      ]
    },
    {
      "cell_type": "code",
      "metadata": {
        "colab": {
          "base_uri": "https://localhost:8080/"
        },
        "id": "NsRHpTV4EI7H",
        "outputId": "20939548-45bb-4182-8f77-ffcd6441df36"
      },
      "source": [
        "from sklearn.model_selection import GridSearchCV\n",
        "\n",
        "param_grid = {\n",
        "    'bootstrap': [True],\n",
        "    'max_depth': [80],#[80, 90, 100, 110],\n",
        "    'max_features': [3],#[2, 3],\n",
        "    'min_samples_leaf': [3],#[3,4,5],\n",
        "    'min_samples_split': [10],#[8, 10, 12],\n",
        "    'n_estimators': [1000]#[100, 200, 300, 1000]\n",
        "}\n",
        "\n",
        "# Create a based model\n",
        "rf = RandomForestClassifier()\n",
        "# Instantiate the grid search model\n",
        "grid_search = GridSearchCV(estimator = rf, param_grid = param_grid, \n",
        "                          cv = 5, scoring='accuracy', verbose = 1)\n",
        "grid_search.fit(X_train, y_train)"
      ],
      "execution_count": null,
      "outputs": [
        {
          "output_type": "stream",
          "name": "stdout",
          "text": [
            "Fitting 5 folds for each of 4 candidates, totalling 20 fits\n"
          ]
        },
        {
          "output_type": "stream",
          "name": "stderr",
          "text": [
            "[Parallel(n_jobs=1)]: Using backend SequentialBackend with 1 concurrent workers.\n",
            "[Parallel(n_jobs=1)]: Done  20 out of  20 | elapsed:  4.6min finished\n"
          ]
        },
        {
          "output_type": "execute_result",
          "data": {
            "text/plain": [
              "GridSearchCV(cv=5, error_score=nan,\n",
              "             estimator=RandomForestClassifier(bootstrap=True, ccp_alpha=0.0,\n",
              "                                              class_weight=None,\n",
              "                                              criterion='gini', max_depth=None,\n",
              "                                              max_features='auto',\n",
              "                                              max_leaf_nodes=None,\n",
              "                                              max_samples=None,\n",
              "                                              min_impurity_decrease=0.0,\n",
              "                                              min_impurity_split=None,\n",
              "                                              min_samples_leaf=1,\n",
              "                                              min_samples_split=2,\n",
              "                                              min_weight_fraction_leaf=0.0,\n",
              "                                              n_estimators=100, n_jobs=None,\n",
              "                                              oob_score=False,\n",
              "                                              random_state=None, verbose=0,\n",
              "                                              warm_start=False),\n",
              "             iid='deprecated', n_jobs=None,\n",
              "             param_grid={'bootstrap': [True], 'max_depth': [80, 90, 100, 110],\n",
              "                         'max_features': [3], 'min_samples_leaf': [3],\n",
              "                         'min_samples_split': [10], 'n_estimators': [1000]},\n",
              "             pre_dispatch='2*n_jobs', refit=True, return_train_score=False,\n",
              "             scoring='accuracy', verbose=1)"
            ]
          },
          "metadata": {},
          "execution_count": 107
        }
      ]
    },
    {
      "cell_type": "code",
      "metadata": {
        "colab": {
          "base_uri": "https://localhost:8080/"
        },
        "id": "By3If04me0WT",
        "outputId": "65d4cf26-c518-471e-b899-027cbb32de50"
      },
      "source": [
        "print('Cross Validation Score:', grid_search.best_score_)\n",
        "# Best parameters which resulted in the best score\n",
        "print('Best Parameters:', grid_search.best_params_)"
      ],
      "execution_count": null,
      "outputs": [
        {
          "output_type": "stream",
          "name": "stdout",
          "text": [
            "Cross Validation Score: 0.6882296954403428\n",
            "Best Parameters: {'bootstrap': True, 'max_depth': 110, 'max_features': 3, 'min_samples_leaf': 3, 'min_samples_split': 10, 'n_estimators': 1000}\n"
          ]
        }
      ]
    },
    {
      "cell_type": "code",
      "metadata": {
        "colab": {
          "base_uri": "https://localhost:8080/"
        },
        "id": "LUvQ87tXh7Dg",
        "outputId": "92b9a38d-6ee7-4672-9d61-33bda89939cd"
      },
      "source": [
        "# Predict with X_test features\n",
        "y_pred = grid_search.predict(X_test)\n",
        "\n",
        "# Compare predictions to y_test labels\n",
        "test_score = accuracy_score(y_test, y_pred)\n",
        "print('Accuracy Score on test data set:', test_score)"
      ],
      "execution_count": null,
      "outputs": [
        {
          "output_type": "stream",
          "name": "stdout",
          "text": [
            "Accuracy Score on test data set: 0.6948848339814537\n"
          ]
        }
      ]
    }
  ]
}